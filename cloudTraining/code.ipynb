{
  "cells": [
    {
      "cell_type": "markdown",
      "metadata": {
        "id": "view-in-github",
        "colab_type": "text"
      },
      "source": [
        "<a href=\"https://colab.research.google.com/github/Vldd28/PodcastPrediction/blob/main/cloudTraining/code.ipynb\" target=\"_parent\"><img src=\"https://colab.research.google.com/assets/colab-badge.svg\" alt=\"Open In Colab\"/></a>"
      ]
    },
    {
      "cell_type": "markdown",
      "metadata": {
        "id": "AUibU02EI9pf"
      },
      "source": [
        "First we import our required libraries"
      ]
    },
    {
      "cell_type": "markdown",
      "metadata": {
        "id": "YjPRP9DhI9pi"
      },
      "source": [
        "The first problem with our dataset are the missing values for Episode_length_minutes and Guest_Popularity_percentage and one missing add"
      ]
    },
    {
      "cell_type": "code",
      "execution_count": 10,
      "metadata": {
        "id": "GoVtdq3tI9ph"
      },
      "outputs": [],
      "source": [
        "import pandas as pd\n",
        "import matplotlib.pyplot as plt\n",
        "import numpy as np\n",
        "import seaborn as sns"
      ]
    },
    {
      "cell_type": "code",
      "execution_count": 11,
      "metadata": {
        "id": "RKKmqZyDI9pj"
      },
      "outputs": [],
      "source": [
        "def view_scatter(feature1,feature2):\n",
        "    sns.scatterplot(x=df[feature1],y=df[feature2])\n",
        "    plt.title(f'Scatter plot of {feature1} vs {feature2}')\n",
        "    plt.xlabel(feature1)\n",
        "    plt.ylabel(feature2)\n",
        "    plt.show()\n",
        "def view_graph(feature1,feature2):\n",
        "    plt.scatter(x=df[feature1],y=df[feature2],alpha=0.5)\n",
        "    plt.xlabel(feature1)\n",
        "    plt.ylabel(feature2)\n",
        "    plt.grid(True)\n",
        "    plt.show()"
      ]
    },
    {
      "cell_type": "code",
      "execution_count": 12,
      "metadata": {
        "id": "Yg6A8p1UI9pk"
      },
      "outputs": [],
      "source": [
        "df = pd.read_csv('data/train.csv')\n",
        "df = df.dropna()\n",
        "df['Episode_Title'] = df['Episode_Title'].str.extract(r'(\\d+)').astype(int)\n",
        "df = pd.get_dummies(df, columns=['Episode_Sentiment'], drop_first=False)\n",
        "df = pd.get_dummies(df, columns=['Genre'], drop_first=False)\n",
        "df = pd.get_dummies(df, columns=['Publication_Time'], drop_first=False)\n",
        "df = pd.get_dummies(df, columns=['Publication_Day'], drop_first=False)\n",
        "df = df.drop(columns=['Podcast_Name'])"
      ]
    },
    {
      "cell_type": "code",
      "execution_count": 13,
      "metadata": {
        "id": "pF1ENjOyI9pl"
      },
      "outputs": [],
      "source": [
        "from sklearn.ensemble import RandomForestRegressor\n",
        "from sklearn.model_selection import train_test_split\n",
        "from sklearn.metrics import mean_squared_error\n",
        "import numpy as np\n",
        "\n",
        "# Assuming the target column is 'Listening_Time_minutes' in the training data\n",
        "X = df.drop(columns=['Listening_Time_minutes'])\n",
        "y = df['Listening_Time_minutes']\n",
        "\n",
        "# Split the data into training and validation sets\n",
        "X_train, X_val, y_train, y_val = train_test_split(X, y, test_size=0.2, random_state=42)\n"
      ]
    },
    {
      "cell_type": "code",
      "execution_count": 14,
      "metadata": {
        "id": "PYx50tcVI9pm",
        "outputId": "59482e52-10b4-4cfd-9a7c-4e572593f16f",
        "colab": {
          "base_uri": "https://localhost:8080/"
        }
      },
      "outputs": [
        {
          "output_type": "stream",
          "name": "stdout",
          "text": [
            "RMSE on validation set: 10.076890374049091\n"
          ]
        }
      ],
      "source": [
        "from sklearn.ensemble import RandomForestRegressor\n",
        "\n",
        "model = RandomForestRegressor(n_estimators=100, random_state=42, n_jobs=-1)\n",
        "model.fit(X_train, y_train)\n",
        "\n",
        "# Make predictions on the validation set\n",
        "y_pred = model.predict(X_val)\n",
        "\n",
        "# Calculate RMSE for the validation set\n",
        "rmse = np.sqrt(mean_squared_error(y_val, y_pred))\n",
        "print(f\"RMSE on validation set: {rmse}\")"
      ]
    }
  ],
  "metadata": {
    "kernelspec": {
      "display_name": "myenv",
      "language": "python",
      "name": "python3"
    },
    "language_info": {
      "codemirror_mode": {
        "name": "ipython",
        "version": 3
      },
      "file_extension": ".py",
      "mimetype": "text/x-python",
      "name": "python",
      "nbconvert_exporter": "python",
      "pygments_lexer": "ipython3",
      "version": "3.13.2"
    },
    "colab": {
      "provenance": [],
      "include_colab_link": true
    }
  },
  "nbformat": 4,
  "nbformat_minor": 0
}